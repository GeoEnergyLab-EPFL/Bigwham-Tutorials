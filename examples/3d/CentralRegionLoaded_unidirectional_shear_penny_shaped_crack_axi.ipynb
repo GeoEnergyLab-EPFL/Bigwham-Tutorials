{
 "cells": [
  {
   "cell_type": "markdown",
   "metadata": {},
   "source": [
    "# Penny-shaped crack under unidirectional shear over a finte region at its center - axisymmetric shear crack problem\n",
    "\n",
    "Axisymmetric problem \n",
    "Straight penny-shaped fracture in an infinite isotropic elastic medium  under an unidirectional shear stress in a central region $r\\in [0,R_w]$, $R_w<R$\n",
    "\n",
    "Note - the Axi3DP0 kernel assumes a zero Poisson's ratio ! as it is coded up also for circular shear ruptures with a unique slip direction (Salamon & Dundurs, 1971, 1977)."
   ]
  },
  {
   "cell_type": "code",
   "execution_count": 1,
   "metadata": {},
   "outputs": [],
   "source": [
    "# imports etc.\n",
    "import sys\n",
    "import os\n",
    "home = os.environ[\"HOME\"]\n",
    "sys.path.append(\"/Users/bricelecampion/ClionProjects/BigWham_dev/build/interfaces/python\")\n",
    "from hmatrix import Hmatrix\n",
    "import numpy as np\n",
    "from scipy.sparse.linalg import gmres\n",
    "\n",
    "sys.path.append(os.path.join(os.getcwd(), '../..'))\n",
    "from solutions.penny_shaped_crack_non_uniform import *\n",
    "import matplotlib.pyplot as plt\n"
   ]
  },
  {
   "cell_type": "markdown",
   "metadata": {},
   "source": [
    "We set the elastic properties of the medium. Note that bigwham's input are the Young's modulus $E$ and Poisson's ratio $\\nu$."
   ]
  },
  {
   "cell_type": "code",
   "execution_count": 2,
   "metadata": {},
   "outputs": [],
   "source": [
    "G = 1.0\n",
    "nu = 0.0\n",
    "E = (2 * G) * (1 + nu)"
   ]
  },
  {
   "cell_type": "markdown",
   "metadata": {},
   "source": [
    "We define a function in order to solve the problem with a given number of elements. Either for P0 elements (constant displacement interpolation) or P1 elements (linear interpolation over the element but discontinuous between element)."
   ]
  },
  {
   "cell_type": "code",
   "execution_count": 3,
   "metadata": {},
   "outputs": [],
   "source": [
    "\n",
    "def solvePennyShaped_finite_patch_shear(nelts,a=1,a_w=0.1,kernel = \"Axi3DP0\"):\n",
    "    \"\"\"Wrapper function to solve the penny-shaped problem with a given number of elements + element type\"\"\"\n",
    "    coor1D = np.linspace(0, a, nelts + 1)\n",
    "    coor = np.transpose(np.array([coor1D, coor1D * 0.0]))\n",
    "    conn = np.fromfunction(lambda i, j: i + j, (nelts, 2), dtype=np.int_)\n",
    "    # H-matrix parameters - choosen here to have an accurate solution\n",
    "    max_leaf_size=100\n",
    "    eta=2.\n",
    "    eps_aca=1.e-5\n",
    "    elas_prop = np.array([E, nu])\n",
    "    h = Hmatrix(kernel, coor, conn, elas_prop, max_leaf_size, eta, eps_aca)\n",
    "    col_pts = h.getMeshCollocationPoints()\n",
    "    r_coor_=col_pts[:,0]\n",
    "    elt_w = np.argwhere(r_coor_<a_w).flatten()\n",
    "    t = np.zeros(h.shape[0])\n",
    "    t[2*elt_w] = 1.\n",
    "    jac_ilu= h.H_ILU_prec() # we use a ilu precond \n",
    "    d = gmres(h, t,M=jac_ilu,tol=1e-6)[0]\n",
    "    dd = d.reshape((-1, 2))\n",
    "    # Crack opening displacement discontinuity from analytical solution \n",
    "    w_true=width_finite_region(r_coor_,R=1,R_w=a_w,sig=1,G=1,nu=0.0)\n",
    "    rmse = np.sqrt((np.sum(dd[1:,1]-w_true[1:])**2)/(w_true[1:].size))\n",
    "    l2rel = (np.linalg.norm((dd[:,1]-w_true)))/(np.linalg.norm(w_true))\n",
    "    return r_coor_,dd,w_true,rmse,l2rel "
   ]
  },
  {
   "cell_type": "code",
   "execution_count": 4,
   "metadata": {},
   "outputs": [],
   "source": [
    "r_corr = np.linspace(0, 1, 20 + 1)\n",
    "R=1\n",
    "rho_smaller_rw = np.argwhere(r_corr<0.2).flatten()\n",
    "#w_true=width_finite_region(r_corr,R=1,R_w=0.1,sig=1,G=1,nu=0.0)"
   ]
  },
  {
   "cell_type": "code",
   "execution_count": 6,
   "metadata": {},
   "outputs": [
    {
     "data": {
      "text/plain": [
       "<matplotlib.legend.Legend at 0x1a1ec2d00>"
      ]
     },
     "execution_count": 6,
     "metadata": {},
     "output_type": "execute_result"
    },
    {
     "data": {
      "image/png": "[encoded data removed]",
      "text/plain": [
       "<Figure size 432x288 with 1 Axes>"
      ]
     },
     "metadata": {
      "needs_background": "light"
     },
     "output_type": "display_data"
    }
   ],
   "source": [
    "R_w=0.1\n",
    "xcorr,dd_sol,w_true,rmse,l2rel = solvePennyShaped_finite_patch_shear(1000,a=1,a_w=R_w,kernel=\"Axi3DP0\")\n",
    "\n",
    "plt.plot(xcorr, dd_sol[:,0], \"*\")\n",
    "plt.plot(xcorr, w_true, \"-r\") \n",
    "plt.title(' Load over a finite patch )')\n",
    "plt.xlabel(\"r\")\n",
    "plt.ylabel(\"slip\")\n",
    "plt.ylim([0.,0.3])\n",
    "plt.legend(['BEM ','True'])\n",
    "\n",
    "\n"
   ]
  },
  {
   "cell_type": "code",
   "execution_count": 7,
   "metadata": {},
   "outputs": [
    {
     "data": {
      "text/plain": [
       "Text(0.5, 1.0, 'relative error (r)')"
      ]
     },
     "execution_count": 7,
     "metadata": {},
     "output_type": "execute_result"
    },
    {
     "data": {
      "image/png": "[encoded data removed]",
      "text/plain": [
       "<Figure size 432x288 with 1 Axes>"
      ]
     },
     "metadata": {
      "needs_background": "light"
     },
     "output_type": "display_data"
    }
   ],
   "source": [
    "plt.plot(xcorr[:],(dd_sol[:,0]-w_true[:])/w_true[:], \"-*\") #\n",
    "#plt.plot(xcorr, w_true, \"-+r\") \n",
    "plt.title('relative error (r)')"
   ]
  }
 ],
 "metadata": {
  "kernelspec": {
   "display_name": "python3.9",
   "language": "python",
   "name": "python3"
  },
  "language_info": {
   "codemirror_mode": {
    "name": "ipython",
    "version": 3
   },
   "file_extension": ".py",
   "mimetype": "text/x-python",
   "name": "python",
   "nbconvert_exporter": "python",
   "pygments_lexer": "ipython3",
   "version": "3.9.2"
  }
 },
 "nbformat": 4,
 "nbformat_minor": 2
}

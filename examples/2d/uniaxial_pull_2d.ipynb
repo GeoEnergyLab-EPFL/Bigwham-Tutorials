{
 "cells": [
  {
   "cell_type": "markdown",
   "metadata": {},
   "source": [
    "# Uniaxial pull of a rectangle\n",
    "\n",
    "Plane Elastic problem\n"
   ]
  },
  {
   "cell_type": "markdown",
   "metadata": {},
   "source": [
    "Uni-axial pull in the direction $\\mathbf{e}_1$ of a rectangle of dimension $L_1 \\times L_2$.\n",
    "\n",
    "We use the hyper-singular kernel."
   ]
  },
  {
   "cell_type": "markdown",
   "metadata": {},
   "source": []
  },
  {
   "cell_type": "code",
   "execution_count": 1,
   "metadata": {},
   "outputs": [],
   "source": [
    "# %% importing BigWham \n",
    "import sys\n",
    "import os\n",
    "import numpy as np\n",
    "\n",
    "home = os.environ[\"HOME\"]\n",
    "sys.path.append(\"/Users/bricelecampion/ClionProjects/BigWham_dev/build/interfaces/python\")\n",
    "from hmatrix import Hmatrix\n"
   ]
  },
  {
   "cell_type": "code",
   "execution_count": 165,
   "metadata": {},
   "outputs": [],
   "source": [
    "#%% Elastic properties\n",
    "G = 1.0\n",
    "nu = 0.25\n",
    "E = (2 * G) * (1 + nu)\n",
    "\n",
    "# %% Mesh \n",
    "L1 = 1\n",
    "L2 = 1\n",
    "n1 = 10*1\n",
    "n2= 10*1\n",
    "nelts = n1*2 +n2*2\n",
    "\n",
    "# counter clock-wise for inner problem \n",
    "coor1Dx = np.linspace(0, L1, n1+ 1)\n",
    "coor1Dy = np.linspace(0, L2, n2+ 1)\n",
    "\n",
    "coor =np.append(np.array([coor1Dy[0:]*0.0, coor1Dy[:] ]),np.array([coor1Dx[1:], coor1Dx[1:] * 0.0+L2]) ,axis=1)\n",
    "\n",
    "coor = np.append(coor,np.array([np.flip(coor1Dy)[1:-1]*0.+L1,np.flip(coor1Dy)[1:-1]]),axis=1)\n",
    "coor = np.append(coor,(np.array([np.flip(coor1Dx[1:]), np.flip(coor1Dx[1:]) * 0.0])),axis=1)\n",
    "\n",
    "coor = np.transpose(coor)\n",
    "\n",
    "conn = np.fromfunction(lambda i, j: i + j, (nelts-1, 2), dtype=np.int_)\n",
    "conn = np.append(conn,np.array([[nelts-1,0]]),axis=0)\n"
   ]
  },
  {
   "cell_type": "code",
   "execution_count": 166,
   "metadata": {},
   "outputs": [
    {
     "data": {
      "text/plain": [
       "True"
      ]
     },
     "execution_count": 166,
     "metadata": {},
     "output_type": "execute_result"
    }
   ],
   "source": [
    "kernel = \"2DP0\"\n",
    "elas_prop = np.array([E, nu])\n",
    "eta=3.0\n",
    "max_leaf_size = 64\n",
    "eps_aca = 1.0e-4\n",
    "h = Hmatrix(kernel, coor, conn, elas_prop, max_leaf_size, eta, eps_aca)\n",
    "\n",
    "colpts=h.getCollocationPoints()\n",
    "\n",
    "my_colPts = np.asarray([ np.mean(coor[conn[e]],axis=0) for e in range(nelts)  ])\n",
    "np.sum(my_colPts==colpts)==nelts*2"
   ]
  },
  {
   "cell_type": "code",
   "execution_count": 167,
   "metadata": {},
   "outputs": [
    {
     "data": {
      "text/plain": [
       "[<matplotlib.lines.Line2D at 0x1e82a9df0>]"
      ]
     },
     "execution_count": 167,
     "metadata": {},
     "output_type": "execute_result"
    },
    {
     "data": {
      "image/png": "[encoded data removed]",
      "text/plain": [
       "<Figure size 432x288 with 1 Axes>"
      ]
     },
     "metadata": {
      "needs_background": "light"
     },
     "output_type": "display_data"
    }
   ],
   "source": [
    "# plot mesh + collocation points location\n",
    "import matplotlib.pyplot as plt\n",
    "\n",
    "for e in range(nelts):\n",
    "    plt.plot(coor[conn[e],0],coor[conn[e],1])\n",
    "\n",
    "plt.plot(colpts[:,0],colpts[:,1],'.k')\n",
    "#plt.plot(my_colPts[:,0],my_colPts[:,1],'.r')\n"
   ]
  },
  {
   "cell_type": "code",
   "execution_count": 168,
   "metadata": {},
   "outputs": [
    {
     "data": {
      "text/plain": [
       "1.0"
      ]
     },
     "execution_count": 168,
     "metadata": {},
     "output_type": "execute_result"
    }
   ],
   "source": [
    "h.getCompression()#\n",
    "#h.plotPattern()"
   ]
  },
  {
   "cell_type": "code",
   "execution_count": 169,
   "metadata": {},
   "outputs": [],
   "source": [
    "# boundary conditions\n",
    "#  \n",
    "# traction on left + right sides, free on top & bottom sides\n",
    "left_pts=np.where(colpts[:,0]==0.)[0]\n",
    "right_pts=np.where(colpts[:,0]==L1)[0]\n",
    "bot_pts = np.where(colpts[:,1]==0.)[0]\n",
    "top_pts = np.where(colpts[:,1]==L2)[0]"
   ]
  },
  {
   "cell_type": "code",
   "execution_count": 177,
   "metadata": {},
   "outputs": [],
   "source": [
    "tractions_g = np.zeros(2*nelts)\n",
    "tractions_g[right_pts*2]=1.0  # pull along x1 (-> corresponds to local normal dof for right side)\n",
    "tractions_g[left_pts*2]=-1.0  # pull along x1 (-> corresponds to localnormal dof for left side)\n",
    "\n",
    "tractions=h.convert_to_local(tractions_g)\n",
    "from scipy.sparse.linalg import gmres\n",
    "jac_prec = h.H_jacobi_prec()\n",
    "jac_ilu = h.H_ILU_prec()\n",
    "d = gmres(h, tractions,M=jac_ilu,maxiter=500,tol=1e-6,restart=500)[0] #\n",
    "dd_global = -h.convert_to_global(d).reshape((-1, 2))\n",
    "\n",
    "# plot displacement w.r. to the mean (to get rif of rigit body motion)\n",
    "m1=np.mean(dd_global[:,0])\n",
    "m2=np.mean(dd_global[:,1])"
   ]
  },
  {
   "cell_type": "code",
   "execution_count": 178,
   "metadata": {},
   "outputs": [
    {
     "data": {
      "text/plain": [
       "[<matplotlib.lines.Line2D at 0x1e84736a0>]"
      ]
     },
     "execution_count": 178,
     "metadata": {},
     "output_type": "execute_result"
    },
    {
     "data": {
      "image/png": "[encoded data removed]",
      "text/plain": [
       "<Figure size 432x288 with 1 Axes>"
      ]
     },
     "metadata": {
      "needs_background": "light"
     },
     "output_type": "display_data"
    }
   ],
   "source": [
    "# plot of u_1 for left and right sides  along y ...\n",
    "plt.plot(colpts[left_pts,1],dd_global[left_pts,0]-m1)\n",
    "plt.plot(colpts[right_pts,1],dd_global[right_pts,0]-m1,'.-')"
   ]
  },
  {
   "cell_type": "code",
   "execution_count": 179,
   "metadata": {},
   "outputs": [
    {
     "name": "stdout",
     "output_type": "stream",
     "text": [
      "Analytical u_x (left) 0.4\n",
      "num u_x (left) 0.6171255273416322\n",
      "relative error  0.5428138183540804\n"
     ]
    }
   ],
   "source": [
    "# be careful must take 1/2 of dd for the real displacement ! \n",
    "L1/E \n",
    "np.mean(dd_global[left_pts,0]-m1)\n",
    "rel_error=np.abs(L1/E-np.median(dd_global[left_pts,0]-m1))/(L1/E)\n",
    "print(\"Analytical u_x (left)\",(L1/E))\n",
    "print(\"num u_x (left)\",np.median(dd_global[left_pts,0]-m1))\n",
    "\n",
    "print('relative error ',rel_error)"
   ]
  },
  {
   "cell_type": "code",
   "execution_count": 180,
   "metadata": {},
   "outputs": [
    {
     "data": {
      "text/plain": [
       "0.05"
      ]
     },
     "execution_count": 180,
     "metadata": {},
     "output_type": "execute_result"
    },
    {
     "data": {
      "image/png": "[encoded data removed]",
      "text/plain": [
       "<Figure size 432x288 with 1 Axes>"
      ]
     },
     "metadata": {
      "needs_background": "light"
     },
     "output_type": "display_data"
    }
   ],
   "source": [
    "# plot of u_2 along y for left and right sides (poisson's effect)\n",
    "plt.plot(colpts[left_pts,1],dd_global[left_pts,1]-m2)\n",
    "plt.plot(colpts[right_pts,1],dd_global[right_pts,1]-m2,'.-')\n",
    "# max u_y at top of both sides :\n",
    "L1/E/2 * nu"
   ]
  },
  {
   "cell_type": "code",
   "execution_count": 181,
   "metadata": {},
   "outputs": [
    {
     "data": {
      "text/plain": [
       "-2.0777240817312745"
      ]
     },
     "execution_count": 181,
     "metadata": {},
     "output_type": "execute_result"
    }
   ],
   "source": [
    "1-np.max(dd_global[left_pts,1]-m2)/(L1/E/2 * nu)"
   ]
  },
  {
   "cell_type": "code",
   "execution_count": 182,
   "metadata": {},
   "outputs": [
    {
     "name": "stdout",
     "output_type": "stream",
     "text": [
      "true u_y (top)  0.05\n",
      "num median 0.11783955832934467\n",
      "num median 0.11854837201101892\n",
      "rel error median 1.3567911665868932\n"
     ]
    },
    {
     "data": {
      "image/png": "[encoded data removed]",
      "text/plain": [
       "<Figure size 432x288 with 1 Axes>"
      ]
     },
     "metadata": {
      "needs_background": "light"
     },
     "output_type": "display_data"
    }
   ],
   "source": [
    "# plot of u_2 along e1 for top and bottom sides \n",
    "plt.plot(colpts[bot_pts,0],dd_global[bot_pts,1]-m2)\n",
    "plt.plot(colpts[top_pts,0],dd_global[top_pts,1]-m2)\n",
    "\n",
    "print('true u_y (top) ',(L1/E/2 * nu))\n",
    "print('num median',np.median(dd_global[top_pts,1]-m2))\n",
    "print('num median',np.max(dd_global[top_pts,1]-m2))\n",
    "\n",
    "print('rel error median',np.abs(np.median(dd_global[top_pts,1]-m2)-(L1/E/2 * nu))/((L1/E/2 * nu)) )#  median relative error \n"
   ]
  },
  {
   "cell_type": "code",
   "execution_count": 187,
   "metadata": {},
   "outputs": [
    {
     "data": {
      "text/plain": [
       "[<matplotlib.lines.Line2D at 0x1e8186820>]"
      ]
     },
     "execution_count": 187,
     "metadata": {},
     "output_type": "execute_result"
    },
    {
     "data": {
      "image/png": "[encoded data removed]",
      "text/plain": [
       "<Figure size 432x288 with 1 Axes>"
      ]
     },
     "metadata": {
      "needs_background": "light"
     },
     "output_type": "display_data"
    }
   ],
   "source": [
    "# plot of u_1 along e1 for top and bottom sides \n",
    "plt.plot(colpts[bot_pts,0],dd_global[bot_pts,0]-m1)\n",
    "plt.plot(colpts[top_pts,0],dd_global[top_pts,0]-m1)"
   ]
  },
  {
   "cell_type": "code",
   "execution_count": 184,
   "metadata": {},
   "outputs": [],
   "source": [
    "#bot_pts\n",
    "#dd_global[bot_pts,0]-m1"
   ]
  },
  {
   "cell_type": "code",
   "execution_count": 185,
   "metadata": {},
   "outputs": [
    {
     "data": {
      "text/plain": [
       "False"
      ]
     },
     "execution_count": 185,
     "metadata": {},
     "output_type": "execute_result"
    }
   ],
   "source": [
    "(coor.shape[0]==2 or coor.shape[0] ==160 )"
   ]
  },
  {
   "cell_type": "code",
   "execution_count": 186,
   "metadata": {},
   "outputs": [
    {
     "data": {
      "text/plain": [
       "False"
      ]
     },
     "execution_count": 186,
     "metadata": {},
     "output_type": "execute_result"
    }
   ],
   "source": [
    "coor.shape[0] ==160"
   ]
  },
  {
   "cell_type": "code",
   "execution_count": null,
   "metadata": {},
   "outputs": [],
   "source": []
  }
 ],
 "metadata": {
  "kernelspec": {
   "display_name": "python3.9",
   "language": "python",
   "name": "python3"
  },
  "language_info": {
   "codemirror_mode": {
    "name": "ipython",
    "version": 3
   },
   "file_extension": ".py",
   "mimetype": "text/x-python",
   "name": "python",
   "nbconvert_exporter": "python",
   "pygments_lexer": "ipython3",
   "version": "3.9.2"
  }
 },
 "nbformat": 4,
 "nbformat_minor": 2
}

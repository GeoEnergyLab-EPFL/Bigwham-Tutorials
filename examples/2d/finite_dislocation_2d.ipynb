{
 "cells": [
  {
   "cell_type": "markdown",
   "metadata": {},
   "source": [
    "# Elastic field around a finite dislocation segment\n",
    "\n",
    "Plane Elastic problem\n",
    "\n",
    "We test the computation of the displacement and stress at observation points by setting the solution of the collocation BEM to the analytical solution on the BE mesh."
   ]
  },
  {
   "cell_type": "markdown",
   "metadata": {},
   "source": [
    "Unit displacement discontinuity centered around the origin:\n",
    "\n",
    "$\\Delta u_i (x_1,x_2=0)= 1 $  for $x_1 \\in [-1,1]$, and $i=1,\\,2$"
   ]
  },
  {
   "cell_type": "markdown",
   "metadata": {},
   "source": []
  },
  {
   "cell_type": "code",
   "execution_count": 1,
   "metadata": {},
   "outputs": [],
   "source": [
    "# %% importing BigWham \n",
    "import sys\n",
    "import os\n",
    "import numpy as np\n",
    "\n",
    "home = os.environ[\"HOME\"]\n",
    "sys.path.append(\"/Users/bricelecampion/ClionProjects/BigWham_dev/build/interfaces/python\")\n",
    "from hmatrix import Hmatrix\n"
   ]
  },
  {
   "cell_type": "code",
   "execution_count": 2,
   "metadata": {},
   "outputs": [],
   "source": [
    "#%% Elastic properties\n",
    "G = 1.0\n",
    "nu = 0.25\n",
    "E = (2 * G) * (1 + nu)\n",
    "\n",
    "# %% Mesh \n",
    "a = 2.3\n",
    "nelts = 1\n",
    "coor1D = np.linspace(-a, a, nelts + 1)\n",
    "coor = np.transpose(np.array([coor1D, coor1D * 0.0]))\n",
    "conn = np.fromfunction(lambda i, j: i + j, (nelts, 2), dtype=np.int_)\n"
   ]
  },
  {
   "cell_type": "code",
   "execution_count": 3,
   "metadata": {},
   "outputs": [],
   "source": [
    "kernel = \"2DP0\"\n",
    "elas_prop = np.array([E, nu])\n",
    "eta=3.0\n",
    "max_leaf_size = 64\n",
    "eps_aca = 1.0e-3\n",
    "h = Hmatrix(kernel, coor, conn, elas_prop, max_leaf_size, eta, eps_aca)\n",
    "\n",
    "colpts=h.getCollocationPoints()\n"
   ]
  },
  {
   "cell_type": "code",
   "execution_count": 4,
   "metadata": {},
   "outputs": [
    {
     "data": {
      "text/plain": [
       "array([[0., 0.]])"
      ]
     },
     "execution_count": 4,
     "metadata": {},
     "output_type": "execute_result"
    }
   ],
   "source": [
    "colpts"
   ]
  },
  {
   "cell_type": "code",
   "execution_count": 5,
   "metadata": {},
   "outputs": [],
   "source": [
    "# x\n",
    "\n",
    "x_obs=np.linspace(0.,3*a,90)\n",
    "obs_pts = np.transpose([x_obs , x_obs*0.])"
   ]
  },
  {
   "cell_type": "code",
   "execution_count": 6,
   "metadata": {},
   "outputs": [],
   "source": [
    "d = np.array([0.,0.89])\n",
    "disp=h.compute_displacements(obs_pts,d)   "
   ]
  },
  {
   "cell_type": "code",
   "execution_count": 7,
   "metadata": {},
   "outputs": [],
   "source": [
    "# solution of displacement due to a segment displacement discontinuity centered at origin and orienterd along x-axis \n",
    "# displacement along y=0 - Solution from Crouch & Starfield page 82\n",
    "def DD_displacement_y_0(x,a=1.,nu=0.25,d_x=1,d_y=1):\n",
    "    # we code y=0- expressions\n",
    "    # note Crouch convnetion: positive dd in overlap\n",
    "    ux=-(1-2*nu)/(4*np.pi*(1-nu))*d_y*np.log(np.abs((x-a)/(x+a))) \n",
    "    uy= (1-2*nu)/(4*np.pi*(1-nu))*d_x*np.log(np.abs((x-a)/(x+a)))\n",
    "    ux[np.where(abs(x)<a)[0]]+=0.5*d_x\n",
    "    uy[np.where(abs(x)<a)[0]]+=0.5*d_y\n",
    "    return ux,uy    \n"
   ]
  },
  {
   "cell_type": "code",
   "execution_count": 8,
   "metadata": {},
   "outputs": [],
   "source": [
    "uxa,uya=DD_displacement_y_0(x_obs,a=a,nu=nu,d_x=0.,d_y=0.89)"
   ]
  },
  {
   "cell_type": "code",
   "execution_count": 9,
   "metadata": {},
   "outputs": [
    {
     "data": {
      "text/plain": [
       "[<matplotlib.lines.Line2D at 0x1abf4f340>]"
      ]
     },
     "execution_count": 9,
     "metadata": {},
     "output_type": "execute_result"
    },
    {
     "data": {
      "image/png": "[encoded data removed]",
      "text/plain": [
       "<Figure size 432x288 with 1 Axes>"
      ]
     },
     "metadata": {
      "needs_background": "light"
     },
     "output_type": "display_data"
    }
   ],
   "source": [
    "import matplotlib.pyplot as plt\n",
    "\n",
    "plt.plot(x_obs,disp[:,0])\n",
    "plt.plot(x_obs,uxa) #"
   ]
  },
  {
   "cell_type": "code",
   "execution_count": 10,
   "metadata": {},
   "outputs": [
    {
     "data": {
      "text/plain": [
       "[<matplotlib.lines.Line2D at 0x1ac032070>]"
      ]
     },
     "execution_count": 10,
     "metadata": {},
     "output_type": "execute_result"
    },
    {
     "data": {
      "image/png": "[encoded data removed]",
      "text/plain": [
       "<Figure size 432x288 with 1 Axes>"
      ]
     },
     "metadata": {
      "needs_background": "light"
     },
     "output_type": "display_data"
    }
   ],
   "source": [
    "plt.plot(x_obs,disp[:,1])\n",
    "plt.plot(x_obs,uya)"
   ]
  },
  {
   "cell_type": "code",
   "execution_count": 15,
   "metadata": {},
   "outputs": [],
   "source": [
    "# check values slightly below y=0 \n",
    "obs_ptsdw = np.transpose([x_obs , x_obs*0.-0.01])\n",
    "dispdw=h.compute_displacements(obs_ptsdw,d) # minus sign due to the fact that the T-kernel is - displacement  ! "
   ]
  },
  {
   "cell_type": "code",
   "execution_count": 16,
   "metadata": {},
   "outputs": [
    {
     "data": {
      "text/plain": [
       "[<matplotlib.lines.Line2D at 0x1ac149fa0>]"
      ]
     },
     "execution_count": 16,
     "metadata": {},
     "output_type": "execute_result"
    },
    {
     "data": {
      "image/png": "[encoded data removed]",
      "text/plain": [
       "<Figure size 432x288 with 1 Axes>"
      ]
     },
     "metadata": {
      "needs_background": "light"
     },
     "output_type": "display_data"
    }
   ],
   "source": [
    "plt.plot(x_obs,disp[:,1])\n",
    "plt.plot(x_obs,dispdw[:,1])"
   ]
  },
  {
   "cell_type": "code",
   "execution_count": 17,
   "metadata": {},
   "outputs": [
    {
     "data": {
      "text/plain": [
       "[<matplotlib.lines.Line2D at 0x1ac1b1280>]"
      ]
     },
     "execution_count": 17,
     "metadata": {},
     "output_type": "execute_result"
    },
    {
     "data": {
      "image/png": "[encoded data removed]",
      "text/plain": [
       "<Figure size 432x288 with 1 Axes>"
      ]
     },
     "metadata": {
      "needs_background": "light"
     },
     "output_type": "display_data"
    }
   ],
   "source": [
    "plt.plot(x_obs,disp[:,0])\n",
    "plt.plot(x_obs,dispdw[:,0])"
   ]
  },
  {
   "cell_type": "code",
   "execution_count": 18,
   "metadata": {},
   "outputs": [
    {
     "data": {
      "text/plain": [
       "array([0.        , 0.07752809, 0.15505618, 0.23258427, 0.31011236,\n",
       "       0.38764045, 0.46516854, 0.54269663, 0.62022472, 0.69775281,\n",
       "       0.7752809 , 0.85280899, 0.93033708, 1.00786517, 1.08539326,\n",
       "       1.16292135, 1.24044944, 1.31797753, 1.39550562, 1.47303371,\n",
       "       1.5505618 , 1.62808989, 1.70561798, 1.78314607, 1.86067416,\n",
       "       1.93820225, 2.01573034, 2.09325843, 2.17078652, 2.24831461,\n",
       "       2.3258427 , 2.40337079, 2.48089888, 2.55842697, 2.63595506,\n",
       "       2.71348315, 2.79101124, 2.86853933, 2.94606742, 3.02359551,\n",
       "       3.1011236 , 3.17865169, 3.25617978, 3.33370787, 3.41123596,\n",
       "       3.48876404, 3.56629213, 3.64382022, 3.72134831, 3.7988764 ,\n",
       "       3.87640449, 3.95393258, 4.03146067, 4.10898876, 4.18651685,\n",
       "       4.26404494, 4.34157303, 4.41910112, 4.49662921, 4.5741573 ,\n",
       "       4.65168539, 4.72921348, 4.80674157, 4.88426966, 4.96179775,\n",
       "       5.03932584, 5.11685393, 5.19438202, 5.27191011, 5.3494382 ,\n",
       "       5.42696629, 5.50449438, 5.58202247, 5.65955056, 5.73707865,\n",
       "       5.81460674, 5.89213483, 5.96966292, 6.04719101, 6.1247191 ,\n",
       "       6.20224719, 6.27977528, 6.35730337, 6.43483146, 6.51235955,\n",
       "       6.58988764, 6.66741573, 6.74494382, 6.82247191, 6.9       ])"
      ]
     },
     "execution_count": 18,
     "metadata": {},
     "output_type": "execute_result"
    }
   ],
   "source": [
    "x_obs"
   ]
  },
  {
   "cell_type": "code",
   "execution_count": null,
   "metadata": {},
   "outputs": [],
   "source": []
  }
 ],
 "metadata": {
  "kernelspec": {
   "display_name": "python3.9",
   "language": "python",
   "name": "python3"
  },
  "language_info": {
   "codemirror_mode": {
    "name": "ipython",
    "version": 3
   },
   "file_extension": ".py",
   "mimetype": "text/x-python",
   "name": "python",
   "nbconvert_exporter": "python",
   "pygments_lexer": "ipython3",
   "version": "3.9.2"
  }
 },
 "nbformat": 4,
 "nbformat_minor": 2
}

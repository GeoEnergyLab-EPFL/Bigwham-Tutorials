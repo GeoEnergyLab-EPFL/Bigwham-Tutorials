{
 "cells": [
  {
   "cell_type": "markdown",
   "metadata": {},
   "source": [
    "# Elastic field around a Griffith crack\n",
    "\n",
    "Plane Elastic problem\n",
    "\n",
    "Displacements and stresses around a straight crack  $ x_1 \\in [-a,a] $ under pure tensile loading $\\sigma$.\n",
    "\n",
    "We test the computation of the displacement and stress at observation points by setting the solution of the collocation BEM to the analytical solution on the BE mesh.\n"
   ]
  },
  {
   "cell_type": "markdown",
   "metadata": {},
   "source": [
    "The crack displacement discontinuity is given by for $ x_1 \\in [-a,a] $:\n",
    "\n",
    "$\\Delta u_1 (x_1,x_2=0)= u_1 (x_1,x_2=0^+)-u_1 (x_1,x_2=0^-)=0 $ \n",
    "\n",
    "$\\Delta u_2 (x_1,x_2=0)= u_2 (x_1,x_2=0^+)-u_2 (x_1,x_2=0^-)= \\frac{4 \\sigma}{E^\\prime} \\sqrt{a^2-x_1^2} =\\frac{2 (1-\\nu) \\sigma}{G} \\sqrt{a^2-x_1^2}  $ \n",
    "\n",
    "where $E^\\prime = E / (1-\\nu^2) $ is the plane strain Young's modulus, $G = E/ (2(1+\\nu)) $ the shear modulus, $E$ the Young's modulus and $\\nu$ the Poisson's ratio."
   ]
  },
  {
   "cell_type": "code",
   "execution_count": null,
   "metadata": {},
   "outputs": [],
   "source": [
    "import sys\n",
    "import os\n",
    "home = os.environ[\"HOME\"]\n",
    "print('getcwd:      ', os.getcwd())\n",
    "\n",
    "# load the analytical solution \n",
    "\n",
    "import sys, os\n",
    "sys.path.append(os.path.join(os.getcwd(), '../..'))\n",
    "from solutions.griffith_crack import displacement_griffith,stress_griffith\n"
   ]
  },
  {
   "cell_type": "markdown",
   "metadata": {},
   "source": []
  },
  {
   "cell_type": "code",
   "execution_count": null,
   "metadata": {},
   "outputs": [],
   "source": [
    "# %% importing BigWham \n",
    "import sys\n",
    "import os\n",
    "import numpy as np\n",
    "import time\n",
    "\n",
    "\n",
    "home = os.environ[\"HOME\"]\n",
    "sys.path.append(\"/Users/bricelecampion/ClionProjects/BigWham_dev/build/interfaces/python\")\n",
    "from hmatrix import Hmatrix\n"
   ]
  },
  {
   "cell_type": "code",
   "execution_count": null,
   "metadata": {},
   "outputs": [],
   "source": [
    "#%% Elastic properties\n",
    "G = 1.0\n",
    "nu = 0.25\n",
    "E = (2 * G) * (1 + nu)\n",
    "Eprime = E/(1-nu**2)\n",
    "# %% Mesh \n",
    "a = 1.\n",
    "nelts = 101\n",
    "coor1D = np.linspace(-a, a, nelts + 1)\n",
    "coor = np.transpose(np.array([coor1D, coor1D * 0.0]))\n",
    "conn = np.fromfunction(lambda i, j: i + j, (nelts, 2), dtype=np.int_)\n"
   ]
  },
  {
   "cell_type": "code",
   "execution_count": null,
   "metadata": {},
   "outputs": [],
   "source": [
    "kernel = \"2DP0\"\n",
    "elas_prop = np.array([E, nu])\n",
    "eta=3.0\n",
    "max_leaf_size = 64\n",
    "eps_aca = 1.0e-3\n",
    "h = Hmatrix(kernel, coor, conn, elas_prop, max_leaf_size, eta, eps_aca)\n",
    "\n",
    "colpts=h.getCollocationPoints()\n",
    "\n"
   ]
  },
  {
   "cell_type": "code",
   "execution_count": null,
   "metadata": {},
   "outputs": [],
   "source": []
  },
  {
   "cell_type": "code",
   "execution_count": null,
   "metadata": {},
   "outputs": [],
   "source": [
    "h.get_omp_threads()"
   ]
  },
  {
   "cell_type": "code",
   "execution_count": null,
   "metadata": {},
   "outputs": [],
   "source": [
    "# x\n",
    "x_obs=np.linspace(-3*a,3*a,500)\n",
    "yoffset = 0.17\n",
    "obs_pts = np.transpose([x_obs , x_obs*0.+yoffset])\n",
    "#\n",
    "u,v = displacement_griffith(x_obs+yoffset*(1j),a=a,sig=1,nu=nu,G=G)\n"
   ]
  },
  {
   "cell_type": "code",
   "execution_count": null,
   "metadata": {},
   "outputs": [],
   "source": [
    "w = (4*1/Eprime)*np.sqrt(a**2-colpts[:,0]**2)   # Crack opening displacement discontinuity from analytical solution \n",
    "# compute displacement via BEM representation\n",
    "d = np.transpose([w*0.,w])\n",
    "zt = time.process_time()\n",
    "disp=h.compute_displacements(obs_pts,-d)   # minus sign due to convention of positive dd in overlap in the inner of Bigwham....\n",
    "zt = time.process_time()\n",
    "elapsed = (time.process_time() - zt) \n",
    "print(\"number of active threads for MatVec\", h.get_omp_threads())\n",
    "print(\"elapsed time\", elapsed)\n"
   ]
  },
  {
   "cell_type": "code",
   "execution_count": null,
   "metadata": {},
   "outputs": [],
   "source": [
    "import matplotlib.pyplot as plt\n",
    "\n",
    "# evolution of u_1 along a line at y = yoffset \n",
    "plt.plot(x_obs,disp[:,0])\n",
    "plt.plot(x_obs,u)\n"
   ]
  },
  {
   "cell_type": "code",
   "execution_count": null,
   "metadata": {},
   "outputs": [],
   "source": [
    "# relative difference\n",
    "plt.plot(x_obs,abs(disp[:,0]-u)/u)\n"
   ]
  },
  {
   "cell_type": "code",
   "execution_count": null,
   "metadata": {},
   "outputs": [],
   "source": [
    "plt.plot(x_obs,disp[:,1])\n",
    "plt.plot(x_obs,v)\n",
    "2/Eprime\n",
    "w.max()/2"
   ]
  },
  {
   "cell_type": "code",
   "execution_count": null,
   "metadata": {},
   "outputs": [],
   "source": [
    "# relative difference\n",
    "plt.plot(x_obs,abs(disp[:,1]-v)/v)"
   ]
  },
  {
   "cell_type": "markdown",
   "metadata": {},
   "source": [
    "# Evolution of Stresses around a griffith crack"
   ]
  },
  {
   "cell_type": "code",
   "execution_count": null,
   "metadata": {},
   "outputs": [],
   "source": [
    "# results from collocation BEM observation (with known solution for the relative DD)\n",
    "sigma=h.compute_stresses(obs_pts,-d)   # minus sign due to convention of positive dd in overlap in the inner of Bigwham...."
   ]
  },
  {
   "cell_type": "code",
   "execution_count": null,
   "metadata": {},
   "outputs": [],
   "source": [
    "# analytical results\n",
    "s_11,s_22,s_12 = stress_griffith(x_obs+yoffset*(1j),a=a,sig=1,nu=nu)\n",
    "\n"
   ]
  },
  {
   "cell_type": "code",
   "execution_count": null,
   "metadata": {},
   "outputs": [],
   "source": [
    "plt.plot(x_obs,sigma[:,0])\n",
    "plt.plot(x_obs,s_11)\n",
    "np.median(np.abs(s_11-sigma[:,0]))"
   ]
  },
  {
   "cell_type": "code",
   "execution_count": null,
   "metadata": {},
   "outputs": [],
   "source": [
    "plt.plot(x_obs,sigma[:,1])\n",
    "plt.plot(x_obs,s_22)\n",
    "np.median(np.abs(s_22-sigma[:,1]))"
   ]
  },
  {
   "cell_type": "code",
   "execution_count": null,
   "metadata": {},
   "outputs": [],
   "source": [
    "plt.plot(x_obs,sigma[:,2])\n",
    "plt.plot(x_obs,s_12)\n",
    "np.median(np.abs(s_12-sigma[:,2]))"
   ]
  }
 ],
 "metadata": {
  "kernelspec": {
   "display_name": "python3.9",
   "language": "python",
   "name": "python3"
  },
  "language_info": {
   "codemirror_mode": {
    "name": "ipython",
    "version": 3
   },
   "file_extension": ".py",
   "mimetype": "text/x-python",
   "name": "python",
   "nbconvert_exporter": "python",
   "pygments_lexer": "ipython3",
   "version": "3.9.2"
  }
 },
 "nbformat": 4,
 "nbformat_minor": 2
}

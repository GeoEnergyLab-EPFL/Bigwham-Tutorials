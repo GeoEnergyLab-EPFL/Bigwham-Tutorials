{
 "cells": [
  {
   "attachments": {},
   "cell_type": "markdown",
   "id": "57c63c3c-181f-4b92-961e-31fa8f4f587d",
   "metadata": {
    "tags": []
   },
   "source": [
    "# 2D BCSD Crack inverse problem example (2DP1)"
   ]
  },
  {
   "cell_type": "markdown",
   "id": "1795e076",
   "metadata": {},
   "source": [
    "Instead of just one collocation point per element like in the case of the 2DP0 kernel, the 2DP1 kernel has 2 collocation points.\n",
    "\n",
    "As before, the traction boundary conditions are specified as follows,\n",
    "$$\n",
    "t(x) =\n",
    "    \\begin{cases}\n",
    "        -\\sigma_A & \\text{if } x \\leq |a|\\\\\n",
    "        \\tau_F-\\sigma_A & \\text{if } |c| \\geq x > |a|\n",
    "    \\end{cases}\n",
    "$$\n",
    "\n",
    "Then, the analytical displacement solution for the BCSD crack is given as seen in Weertman (1996), \n",
    "$$\n",
    "D(x) = {2 (1-\\nu) \\tau_F \\over \\pi G} \\{ x \\ln \\big| {x\\sqrt{c^2 - a^2} + a\\sqrt{c^2 - x^2} \\over x\\sqrt{c^2 - a^2} - a\\sqrt{c^2 - x^2}} \\big| - a \\ln \\big| {\\sqrt{c^2 - a^2} + \\sqrt{c^2 - x^2} \\over \\sqrt{c^2 - a^2} - \\sqrt{c^2 - x^2}} \\big| \\}\n",
    "$$"
   ]
  },
  {
   "cell_type": "code",
   "execution_count": 1,
   "id": "3aeaea83-1794-4f4f-bd95-807d900e301f",
   "metadata": {},
   "outputs": [],
   "source": [
    "import numpy as np\n",
    "import sys\n",
    "import os\n",
    "np.set_printoptions(precision=5, suppress=True)\n",
    "import matplotlib.pyplot as plt\n",
    "from matplotlib import ticker, cm, colors\n",
    "from scipy.sparse.linalg import gmres\n",
    "\n",
    "%matplotlib inline\n",
    "# %config InlineBackend.figure_format = 'retina'\n",
    "plt.rcParams['figure.figsize'] = [3.5, 3.5]\n",
    "plt.rcParams['font.size'] = 12\n",
    "#plt.rcParams['text.usetex']=True\n",
    "plt.rcParams[\"savefig.bbox\"] = \"tight\"\n",
    "\n",
    "plt.rcParams[\"savefig.pad_inches\"] = 0.1\n",
    "plt.rcParams[\"savefig.dpi\"] = 100\n",
    "#plt.rcParams[\"text.latex.preamble\"] =r'\\usepackage{amsmath}'+ r'\\usepackage{amssymb}' + r'\\usepackage{accents}'+ r'\\usepackage{bm}'+ r'\\boldmath'+ r'\\renewcommand{\\v}[1]{\\boldsymbol{{#1}}}'+ r'\\DeclareRobustCommand{\\sot}[1]{\\boldsymbol{{#1}}}'\n",
    "\n",
    "norm1 = lambda a : np.linalg.norm(a, axis=1)\n",
    "norm = lambda a : np.linalg.norm(a)\n",
    "\n",
    "from bigwham4py import BEMatrix  # linear operator file"
   ]
  },
  {
   "cell_type": "code",
   "execution_count": 2,
   "id": "251b517b-4f79-4596-a914-72131777205a",
   "metadata": {
    "tags": []
   },
   "outputs": [
    {
     "name": "stdout",
     "output_type": "stream",
     "text": [
      "NUM OF AVAILABLE OMP THREADS: 16\n",
      "BigWham using 8 OpenMP threads\n",
      " Now setting things for kernel ... 2DS1-H with properties size 2\n",
      "--------------------\n",
      "Hierarchical representation creation ...\n",
      "Cluster tree creation time for the source mesh :  0\n",
      "Cluster tree creation time for the source mesh :  0\n",
      "Time for binary cluster tree construction  9e-06\n",
      " binary cluster tree depth =1\n",
      " Number of blocks =4\n",
      " Number of full blocks =4\n",
      " Number of low rank blocks =0\n",
      "Pattern Created \n",
      "Hierarchical representation complete.\n",
      "--------------------\n",
      "Populating Hierarchical matrix ...\n",
      " Loop on full blocks construction  \n",
      " N full blocks 4 \n",
      "Loop on low rank blocks construction\n",
      "N low rank blocks 0\n",
      "dof_dimension: 2\n",
      "Creation of hmat done in 0.017262\n",
      "Compression ratio - 1\n",
      "Hmat object - built \n",
      "Hierarchical matrix construction complete.\n",
      "Compression Ratio = 1, eps_aca = 0.0001, eta = 3\n",
      "Hierarchical matrix  construction time = :  0.017289\n",
      "BigWham constructed Hmat of size (200 x 2) X (200 x 2)\n",
      "--------------------\n"
     ]
    }
   ],
   "source": [
    "G = 1.0\n",
    "nu = 0.25\n",
    "E = (2 * G) * (1 + nu)\n",
    "alpha = 1 - nu\n",
    "\n",
    "tau_F = 1.0\n",
    "sigma_A = (2 * tau_F)/3\n",
    "\n",
    "ct_pressure = - sigma_A\n",
    "pz_pressure = tau_F - sigma_A\n",
    "\n",
    "pre_fac = - 2 * ((alpha*tau_F) / (np.pi*G))\n",
    "\n",
    "a = 1.0\n",
    "pz_fac = 1 / (np.cos((np.pi*sigma_A)/(2*tau_F)))\n",
    "c = 2*a\n",
    "\n",
    "#plastic zone formula\n",
    "#pz_fac_2 = 1 + 2*pz_fac*np.sin((np.pi*sigma_A)/(4*tau_F))**2\n",
    "#c_2 = a*pz_fac_2\n",
    "\n",
    "# Mesh\n",
    "nelts = 100\n",
    "coor1D = np.linspace(-c, c, nelts + 1)\n",
    "coor = np.transpose(np.array([coor1D, coor1D * 0.0]))\n",
    "conn = np.fromfunction(lambda i, j: i + j, (nelts, 2), dtype=np.int_)\n",
    "\n",
    "# H-matrix parameters\n",
    "max_leaf_size = 100\n",
    "eta = 3.\n",
    "eps_aca = 1.e-4\n",
    "\n",
    "# Hmatrix\n",
    "kernel = \"2DS1-H\"\n",
    "elas_prop = np.array([E, nu])\n",
    "hmat = BEMatrix(kernel, coor, conn, elas_prop, max_leaf_size, eta, eps_aca)\n",
    "\n",
    "col_pts = hmat.getMeshCollocationPoints()"
   ]
  },
  {
   "cell_type": "code",
   "execution_count": 3,
   "id": "36779d42",
   "metadata": {},
   "outputs": [
    {
     "name": "stderr",
     "output_type": "stream",
     "text": [
      "/Users/bricelecampion/opt/anaconda3/envs/pyFracX-env/lib/python3.10/site-packages/scipy/sparse/linalg/_isolve/iterative.py:678: RuntimeWarning: invalid value encountered in scalar divide\n",
      "  ptol = Mb_nrm2 * min(ptol_max_factor, atol / bnrm2)\n",
      "/Users/bricelecampion/opt/anaconda3/envs/pyFracX-env/lib/python3.10/site-packages/scipy/sparse/linalg/_isolve/iterative.py:739: RuntimeWarning: invalid value encountered in scalar multiply\n",
      "  tmp = -np.conjugate(s)*S[col]\n"
     ]
    }
   ],
   "source": [
    "trac = np.zeros(col_pts.shape)\n",
    "trac[:, 1] = ct_pressure\n",
    "for i in range(len(trac)):\n",
    "    if abs(col_pts[i][0])>=a:\n",
    "        trac[i][1] = pz_pressure\n",
    "#print(trac)\n",
    "\n",
    "u, info = gmres(hmat, hmat.convert_to_local(trac.flatten()))\n",
    "dd_calc = hmat.convert_to_global(u)"
   ]
  },
  {
   "cell_type": "code",
   "execution_count": 4,
   "id": "355e4ca6",
   "metadata": {},
   "outputs": [
    {
     "name": "stdout",
     "output_type": "stream",
     "text": [
      "Pressure between x = - 1.0  and + 1.0 is =  -0.6666666666666666\n",
      "Pressure between |x| =  1.0  and  2.0  is =  0.33333333333333337\n"
     ]
    },
    {
     "data": {
      "image/png": "[encoded data removed]",
      "text/plain": [
       "<Figure size 350x350 with 1 Axes>"
      ]
     },
     "metadata": {},
     "output_type": "display_data"
    }
   ],
   "source": [
    "plt.figure()\n",
    "plt.plot(col_pts[:, 0], trac[:, 1], color='r')\n",
    "plt.title(\"Traction BCs\")\n",
    "plt.xlabel(\"Position along crack\")\n",
    "plt.ylabel(\"Traction\")\n",
    "print(\"Pressure between x = -\", a , \" and +\", a , \"is = \", ct_pressure)\n",
    "print(\"Pressure between |x| = \", a , \" and \", c , \" is = \", pz_pressure)"
   ]
  },
  {
   "cell_type": "code",
   "execution_count": 5,
   "id": "0ee72893",
   "metadata": {},
   "outputs": [
    {
     "data": {
      "text/plain": [
       "Text(0, 0.5, 'Displacement')"
      ]
     },
     "execution_count": 5,
     "metadata": {},
     "output_type": "execute_result"
    },
    {
     "data": {
      "image/png": "[encoded data removed]",
      "text/plain": [
       "<Figure size 350x350 with 1 Axes>"
      ]
     },
     "metadata": {},
     "output_type": "display_data"
    }
   ],
   "source": [
    "info\n",
    "dd_calc_norm = dd_calc/(a*pre_fac)\n",
    "plt.figure()\n",
    "plt.plot(col_pts[:, 0], dd_calc_norm.reshape(-1, 2)[:, 1], \".\")\n",
    "\n",
    "plt.title(\"Displacement solution\")\n",
    "plt.xlabel(\"Position along crack\")\n",
    "plt.ylabel(\"Displacement\")"
   ]
  },
  {
   "cell_type": "code",
   "execution_count": 6,
   "id": "647eab8f",
   "metadata": {},
   "outputs": [
    {
     "name": "stdout",
     "output_type": "stream",
     "text": [
      "NUM OF AVAILABLE OMP THREADS: 16\n",
      "L2 Rel error 0.8781832879527364\n",
      "BigWham using 8 OpenMP threads\n",
      " Now setting things for kernel ... 2DS1-H with properties size 2\n",
      "--------------------\n",
      "Hierarchical representation creation ...\n",
      "Cluster tree creation time for the source mesh :  0\n",
      "Cluster tree creation time for the source mesh :  0\n",
      "Time for binary cluster tree construction  1e-06\n",
      " binary cluster tree depth =0\n",
      " Number of blocks =1\n",
      " Number of full blocks =1\n",
      " Number of low rank blocks =0\n",
      "Pattern Created \n",
      "Hierarchical representation complete.\n",
      "--------------------\n",
      "Populating Hierarchical matrix ...\n",
      " Loop on full blocks construction  \n",
      " N full blocks 1 \n",
      "Loop on low rank blocks construction\n",
      "N low rank blocks 0\n",
      "dof_dimension: 2\n",
      "Creation of hmat done in 0.000275\n",
      "Compression ratio - 1\n",
      "Hmat object - built \n",
      "Hierarchical matrix construction complete.\n",
      "Compression Ratio = 1, eps_aca = 0.0001, eta = 3\n",
      "Hierarchical matrix  construction time = :  0.000293\n",
      "BigWham constructed Hmat of size (2 x 2) X (2 x 2)\n",
      "--------------------\n",
      "NUM OF AVAILABLE OMP THREADS: 16\n",
      "BigWham using 8 OpenMP threads\n",
      " Now setting things for kernel ... 2DS1-H with properties size 2\n",
      "--------------------\n",
      "Hierarchical representation creation ...\n",
      "Cluster tree creation time for the source mesh :  0\n",
      "Cluster tree creation time for the source mesh :  0\n",
      "Time for binary cluster tree construction  1e-06\n",
      " binary cluster tree depth =0\n",
      " Number of blocks =1\n",
      " Number of full blocks =1\n",
      " Number of low rank blocks =0\n",
      "Pattern Created \n",
      "Hierarchical representation complete.\n",
      "--------------------\n",
      "Populating Hierarchical matrix ...\n",
      " Loop on full blocks construction  \n",
      " N full blocks 1 \n",
      "Loop on low rank blocks construction\n",
      "N low rank blocks 0\n",
      "dof_dimension: 2\n",
      "Creation of hmat done in 0.000788\n",
      "Compression ratio - 1\n",
      "Hmat object - built \n",
      "Hierarchical matrix construction complete.\n",
      "Compression Ratio = 1, eps_aca = 0.0001, eta = 3\n",
      "Hierarchical matrix  construction time = :  0.000802\n",
      "BigWham constructed Hmat of size (20 x 2) X (20 x 2)\n",
      "--------------------\n",
      "L2 Rel error 0.1381821956088603\n",
      "NUM OF AVAILABLE OMP THREADS: 16\n",
      "BigWham using 8 OpenMP threads\n",
      " Now setting things for kernel ... 2DS1-H with properties size 2\n",
      "--------------------\n",
      "Hierarchical representation creation ...\n",
      "Cluster tree creation time for the source mesh :  0\n",
      "Cluster tree creation time for the source mesh :  0\n",
      "Time for binary cluster tree construction  8e-06\n",
      " binary cluster tree depth =1\n",
      " Number of blocks =4\n",
      " Number of full blocks =4\n",
      " Number of low rank blocks =0\n",
      "Pattern Created \n",
      "Hierarchical representation complete.\n",
      "--------------------\n",
      "Populating Hierarchical matrix ...\n",
      " Loop on full blocks construction  \n",
      " N full blocks 4 \n",
      "Loop on low rank blocks construction\n",
      "N low rank blocks 0\n",
      "dof_dimension: 2\n",
      "Creation of hmat done in 0.01906\n",
      "Compression ratio - 1\n",
      "Hmat object - built \n",
      "Hierarchical matrix construction complete.\n",
      "Compression Ratio = 1, eps_aca = 0.0001, eta = 3\n",
      "Hierarchical matrix  construction time = :  0.019079\n",
      "BigWham constructed Hmat of size (200 x 2) X (200 x 2)\n",
      "--------------------\n",
      "L2 Rel error inf\n",
      "NUM OF AVAILABLE OMP THREADS: 16\n",
      "BigWham using 8 OpenMP threads\n",
      " Now setting things for kernel ... 2DS1-H with properties size 2\n",
      "--------------------\n",
      "Hierarchical representation creation ...\n",
      "Cluster tree creation time for the source mesh :  0\n",
      "Cluster tree creation time for the source mesh :  0\n",
      "Time for binary cluster tree construction  0.000581\n",
      " binary cluster tree depth =5\n",
      " Number of blocks =250\n",
      " Number of full blocks =94\n",
      " Number of low rank blocks =156\n",
      "Pattern Created \n",
      "Hierarchical representation complete.\n",
      "--------------------\n",
      "Populating Hierarchical matrix ...\n",
      " Loop on full blocks construction  \n",
      " N full blocks 94 \n",
      "Loop on low rank blocks construction\n",
      "N low rank blocks 156\n",
      "dof_dimension: 2\n",
      "Creation of hmat done in 0.186807\n",
      "Compression ratio - 0.134702\n",
      "Hmat object - built \n",
      "Hierarchical matrix construction complete.\n",
      "Compression Ratio = 0.134702, eps_aca = 0.0001, eta = 3\n",
      "Hierarchical matrix  construction time = :  0.186859\n",
      "BigWham constructed Hmat of size (2000 x 2) X (2000 x 2)\n",
      "--------------------\n",
      "L2 Rel error 0.013622730082290915\n",
      "NUM OF AVAILABLE OMP THREADS: 16\n",
      "BigWham using 8 OpenMP threads\n",
      " Now setting things for kernel ... 2DS1-H with properties size 2\n",
      "--------------------\n",
      "Hierarchical representation creation ...\n",
      "Cluster tree creation time for the source mesh :  0\n",
      "Cluster tree creation time for the source mesh :  0\n",
      "Time for binary cluster tree construction  0.011079\n",
      " binary cluster tree depth =8\n",
      " Number of blocks =2248\n",
      " Number of full blocks =766\n",
      " Number of low rank blocks =1482\n",
      "Pattern Created \n",
      "Hierarchical representation complete.\n",
      "--------------------\n",
      "Populating Hierarchical matrix ...\n",
      " Loop on full blocks construction  \n",
      " N full blocks 766 \n",
      "Loop on low rank blocks construction\n",
      "N low rank blocks 1482\n",
      "dof_dimension: 2\n",
      "Creation of hmat done in 2.95817\n",
      "Compression ratio - 0.0200989\n",
      "Hmat object - built \n",
      "Hierarchical matrix construction complete.\n",
      "Compression Ratio = 0.0200989, eps_aca = 0.0001, eta = 3\n",
      "Hierarchical matrix  construction time = :  2.95823\n",
      "BigWham constructed Hmat of size (20000 x 2) X (20000 x 2)\n",
      "--------------------\n",
      "L2 Rel error 0.004246500006378743\n"
     ]
    }
   ],
   "source": [
    "nelts_array = [10**i for i in range(5)]\n",
    "rel_err_array = []\n",
    "\n",
    "for nelts in nelts_array:\n",
    "    # Mesh\n",
    "    coor1D = np.linspace(-c, c, nelts + 1)\n",
    "    coor = np.transpose(np.array([coor1D, coor1D * 0.0]))\n",
    "    conn = np.fromfunction(lambda i, j: i + j, (nelts, 2), dtype=np.int_)\n",
    "\n",
    "    # H-matrix parameters\n",
    "    max_leaf_size = 100\n",
    "    eta = 3.\n",
    "    eps_aca = 1.e-4\n",
    "\n",
    "    # Hmatrix\n",
    "    kernel = \"2DS1-H\"\n",
    "    elas_prop = np.array([E, nu])\n",
    "    hmat = BEMatrix(kernel, coor, conn, elas_prop, max_leaf_size, eta, eps_aca)\n",
    "\n",
    "    col_pts = hmat.getMeshCollocationPoints()\n",
    "\n",
    "    trac = np.zeros(col_pts.shape)\n",
    "    trac[:, 1] = ct_pressure\n",
    "    for i in range(len(trac)):\n",
    "        if abs(col_pts[i][0])>=a:\n",
    "            trac[i][1] = pz_pressure\n",
    "    #print(trac)\n",
    "\n",
    "    u, info = gmres(hmat, hmat.convert_to_local(trac.flatten()))\n",
    "    dd_calc = hmat.convert_to_global(u)\n",
    "\n",
    "    dd_calc_norm = dd_calc/(a*pre_fac)\n",
    "\n",
    "    dd = np.zeros(col_pts.shape)\n",
    "    pzl2 = np.sqrt(c**2 - a**2)\n",
    "    x_pzl2 = col_pts[:, 0]*pzl2\n",
    "    ctzl2 = np.sqrt(c**2 - col_pts[:, 0]**2)\n",
    "    a_ctzl2 = a*ctzl2\n",
    "\n",
    "    dd[:, 1] = pre_fac * (col_pts[:, 0]*np.log(abs((x_pzl2 + a_ctzl2)/(x_pzl2 - a_ctzl2))) - a*np.log(abs((pzl2 + ctzl2)/(pzl2 - ctzl2))))\n",
    "\n",
    "    rel_err = np.linalg.norm(dd.flatten() - dd_calc_norm) / dd.shape[0]\n",
    "    print(\"L2 Rel error {}\".format(rel_err))\n",
    "    rel_err_array.append(rel_err)\n",
    "\n",
    "    '''\n",
    "    info\n",
    "    dd_calc_norm = dd_calc/(a*pre_fac)\n",
    "    plt.figure()\n",
    "    #plt.plot(np.linalg.norm(col_pts, axis=1), dd_calc.reshape(-1, 2), \".k\")\n",
    "    plt.plot(col_pts[:, 0], dd_calc_norm.reshape(-1, 2)[:, 1], \".\")\n",
    "    plt.plot(col_pts[:, 0], dd.reshape(-1, 2)[:, 1], \".\")\n",
    "    #plt.ylim([-0.01, 0.01])\n",
    "    '''"
   ]
  },
  {
   "cell_type": "code",
   "execution_count": 7,
   "id": "2d8d3985",
   "metadata": {},
   "outputs": [
    {
     "data": {
      "image/png": "[encoded data removed]",
      "text/plain": [
       "<Figure size 350x350 with 1 Axes>"
      ]
     },
     "metadata": {},
     "output_type": "display_data"
    }
   ],
   "source": [
    "h_array = [1/nelts for nelts in nelts_array]\n",
    "\n",
    "plt.figure()\n",
    "plt.plot(h_array, rel_err_array)\n",
    "plt.title(\"Relative error vs h\")\n",
    "plt.xlabel(\"h\")\n",
    "plt.ylabel(\"L2 relative error\")\n",
    "#saves fig - remember to remove\n",
    "#plt.savefig('rel_err_h.png', dpi=100, bbox_inches='tight')\n",
    "plt.show()"
   ]
  },
  {
   "cell_type": "code",
   "execution_count": 8,
   "id": "4ba42875",
   "metadata": {},
   "outputs": [
    {
     "data": {
      "image/png": "[encoded data removed]",
      "text/plain": [
       "<Figure size 350x350 with 1 Axes>"
      ]
     },
     "metadata": {},
     "output_type": "display_data"
    }
   ],
   "source": [
    "plt.figure()\n",
    "plt.plot(h_array, rel_err_array)\n",
    "plt.title(\"Log10 of relative error\")\n",
    "plt.xlabel(\"nelts\")\n",
    "plt.ylabel(\"L2 relative error\")\n",
    "plt.yscale('log')\n",
    "plt.xscale('log')\n",
    "#saves fig - remember to remove\n",
    "#plt.savefig('log_rel_err_h.png', dpi=100, bbox_inches='tight')\n",
    "plt.show()"
   ]
  },
  {
   "cell_type": "code",
   "execution_count": 9,
   "id": "bda078e2",
   "metadata": {},
   "outputs": [
    {
     "name": "stdout",
     "output_type": "stream",
     "text": [
      "[1.0, 0.1, 0.01, 0.001, 0.0001]\n",
      "[5.322134112555957, inf, 0.08817231330226391, 0.027872977400655564, 0.00881416327084399]\n",
      "0.5000755720862435\n",
      "-0.12558541821043565\n"
     ]
    }
   ],
   "source": [
    "print(h_array)\n",
    "print(rel_err_array)\n",
    "\n",
    "log_h = np.log(np.asarray(h_array)[2:])\n",
    "log_rel_array = np.log(np.asarray(rel_err_array)[2:])\n",
    "\n",
    "m, c = np.polyfit(log_h, log_rel_array, 1)\n",
    "\n",
    "print(m)\n",
    "print(c)"
   ]
  },
  {
   "cell_type": "code",
   "execution_count": 10,
   "id": "e505186f",
   "metadata": {},
   "outputs": [
    {
     "data": {
      "image/png": "[encoded data removed]",
      "text/plain": [
       "<Figure size 350x350 with 1 Axes>"
      ]
     },
     "metadata": {},
     "output_type": "display_data"
    }
   ],
   "source": [
    "plt.figure()\n",
    "plt.plot(h_array, rel_err_array, \"*-\")\n",
    "plt.plot(h_array, 0.5*np.array(h_array) ** (m) , \"--\")\n",
    "plt.title(\"Log10 of relative error in h\")\n",
    "plt.xlabel(\"h\")\n",
    "plt.ylabel(\"L2 relative error\")\n",
    "plt.yscale('log',base=10)\n",
    "plt.xscale('log',base=10)\n",
    "#saves fig - remember to remove\n",
    "# plt.savefig('log2_rel_err_h.png', dpi=100, bbox_inches='tight')\n",
    "# plt.show()"
   ]
  },
  {
   "cell_type": "code",
   "execution_count": null,
   "id": "21bbead8",
   "metadata": {},
   "outputs": [],
   "source": []
  }
 ],
 "metadata": {
  "kernelspec": {
   "display_name": "pyFracX-env",
   "language": "python",
   "name": "python3"
  },
  "language_info": {
   "codemirror_mode": {
    "name": "ipython",
    "version": 3
   },
   "file_extension": ".py",
   "mimetype": "text/x-python",
   "name": "python",
   "nbconvert_exporter": "python",
   "pygments_lexer": "ipython3",
   "version": "3.10.14"
  }
 },
 "nbformat": 4,
 "nbformat_minor": 5
}

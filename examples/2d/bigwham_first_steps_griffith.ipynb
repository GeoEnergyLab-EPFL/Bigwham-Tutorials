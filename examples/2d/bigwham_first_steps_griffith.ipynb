{
 "cells": [
  {
   "cell_type": "markdown",
   "metadata": {},
   "source": [
    "#  First Steps with BigWham \n",
    "### Solving the 2D Griffith crack problem \n",
    "[level- beginner]\n",
    "\n",
    "Plane Elasticity problem \n",
    "\n",
    "\n",
    "In this notebook, we focus on the elasto-static problem of a straight fracture in an infinite isotropic medium under uniform remote tension.\n",
    "\n",
    "We explore the different steps of the use of BigWham for the solution of crack problems in elasto-static in infinite media.\n",
    "\n",
    "We first import the Bigwham python interface, as well as a different libraries \n",
    "(notably the scipy gmres for the solution of linear system via an iterative gmres algorithm)."
   ]
  },
  {
   "cell_type": "code",
   "execution_count": 1,
   "metadata": {},
   "outputs": [],
   "source": [
    "# imports etc.\n",
    "import sys\n",
    "import os\n",
    "home = os.environ[\"HOME\"]\n",
    "# append the path to Bigwham interface\n",
    "sys.path.append(\"/Users/bricelecampion/ClionProjects/BigWham_dev/build/interfaces/python\")\n",
    "\n",
    "from hmatrix import Hmatrix\n",
    "\n",
    "import numpy as np\n",
    "from scipy.sparse.linalg import gmres\n",
    "\n",
    "# we import the reference solution for the Griffith crack problem.\n",
    "sys.path.append(os.path.join(os.getcwd(), '../..'))\n",
    "from solutions.griffith_crack import width_griffith\n",
    "\n",
    "# for plotting\n",
    "import matplotlib.pyplot as plt\n"
   ]
  },
  {
   "cell_type": "markdown",
   "metadata": {},
   "source": [
    "We are interested in solving the elastic problem of a straigth crack $x_1 \\in [-a,a]$ under remote uniform tension. The crack is aligned along the axis $\\mathbf{e}_1$ with its normal being $\\mathbf{e}_2$. \n",
    "The medium is considered infinite, with at infinity the following applied stress\n",
    "$$\n",
    "        \\sigma_{11}^{\\infty} = 0 \\\\\n",
    "        \\sigma_{22}^{\\infty} =\\sigma _{A} \\\\\n",
    "        \\sigma_{12}^{\\infty} =0  \\\\\n",
    "$$\n",
    "while the crack is traction free, e.g. for $x_1 \\in [-a,a]$ & $x_2=0$\n",
    "$$\n",
    " \\sigma_{22}(x_1,x_2=0) =t_2=  0 \\\\\n",
    " \\sigma_{12}(x_1,x_2=0) =t_1 = 0 \n",
    " $$ \n",
    "By principle of superposition, the crack displacement discontinuity must balance the tractions due to the far-field stress $t_i^\\infty$ such that ultimate traction on the crack face vanishes.\n",
    "\n",
    " The traction elasto-static boundary integral equations for such a case is given by:\n",
    "\n",
    " $$\n",
    "        t_i(x_1,x_2) = t_i^\\infty(x_1,x_2) - \\int_{-a}^{a} H_{ij}(x_1,y_1) d_j \\text{ d} y_1\n",
    " $$\n",
    " where $H_{ij}$ is the hyper-singular elastostatic kernel (dislocation dipole) and $d_i$ denotes the displacement discontinuity over the crack taken positive in overlap:\n",
    " $$\n",
    " d_i = u_i^- - u_i^+\n",
    " $$\n",
    " where the superscript $-$ and $+$ denotes the bottom and top surface of the crack, and $t_i$ denotes the traction vector with respect to the crack normal taken as the outward normal of the bottom surface of the crack $n_i=n_i^-$. \n",
    "\n"
   ]
  },
  {
   "cell_type": "markdown",
   "metadata": {},
   "source": [
    "### Discretization\n",
    "In this first tutorial, we will solve the problem using piece-wise constant displacement discontinuity element. We first create a simple mesh for this problem - using a constant size for each element.\n",
    "For simplicity, we take a crack of length 2, symmetrically with the origin.\n",
    "\n",
    "Bigwham requires a 2D line mesh defined via two arrays. The first array contains the coordinates ($x_1,\\,x_2$) of the vertex of the elements - we thus denote it as \"coor\" (its entries are typically float). The second array defines the \"connectivity\" of the mesh - for a 2D line mesh, each row consists of the number of the left and right vertex (where the number corresponds to the row of the coordinates array).\n",
    "\n",
    "We use 20 elements for demonstration. There are thus 20+1=21 vertex."
   ]
  },
  {
   "cell_type": "code",
   "execution_count": 2,
   "metadata": {},
   "outputs": [
    {
     "data": {
      "text/plain": [
       "[<matplotlib.lines.Line2D at 0x1a98ed5b0>,\n",
       " <matplotlib.lines.Line2D at 0x1a98ed670>]"
      ]
     },
     "execution_count": 2,
     "metadata": {},
     "output_type": "execute_result"
    },
    {
     "data": {
      "image/png": "[encoded data removed]",
      "text/plain": [
       "<Figure size 432x288 with 1 Axes>"
      ]
     },
     "metadata": {
      "needs_background": "light"
     },
     "output_type": "display_data"
    }
   ],
   "source": [
    "nelts=20\n",
    "a=1\n",
    "coor1D = np.linspace(-a, a, nelts + 1)  # the list of x coordinates of the element vertex\n",
    "coor = np.transpose(np.array([coor1D, coor1D * 0.0])) # the y coordinates is all zero.\n",
    "conn = np.fromfunction(lambda i, j: i + j, (nelts, 2), dtype=np.int_) # the connectivity of the mesh is very simple \n",
    "\n",
    "plt.plot(coor[conn[:],0],coor[conn[:],1],'.-b')"
   ]
  },
  {
   "cell_type": "markdown",
   "metadata": {},
   "source": [
    "We set the elastic properties of the medium. Note that bigwham's input are the Young's modulus $E$ and Poisson's ratio $\\nu$."
   ]
  },
  {
   "cell_type": "code",
   "execution_count": 3,
   "metadata": {},
   "outputs": [],
   "source": [
    "G = 1.0                # shear modulus in [Pa]\n",
    "nu = 0.25              # Poisson's ratio [-]\n",
    "E = (2 * G) * (1 + nu) # Young's modulus [Pa]\n",
    "elas_prop = np.array([E, nu]) # an array for the BigWham interface"
   ]
  },
  {
   "cell_type": "markdown",
   "metadata": {},
   "source": [
    "With the mesh coordinates and connectivity in hand, and the elastic properties, we can initialize a hierarchical matrix object. \n",
    "Bigwham requires several additional information, notably  a string defining the type of element and elastic kernel to be used. For 2D elasto-static, to use P0 element (piece-wise constant displacement over the element), for the hyper-singular kernel the corresponding string value is \"2DP0\". (note - this will change soon and a _H will be required to select the hyper-singular kernel).\n",
    "\n",
    "This 2D P0 element has its collocation point located at the center of the segment. \n"
   ]
  },
  {
   "cell_type": "code",
   "execution_count": 38,
   "metadata": {},
   "outputs": [],
   "source": [
    "kernel_elt = \"2DP0\"  # 2D elastic P0 element (piece-wise constant displacement discontinuity for fracture)"
   ]
  },
  {
   "cell_type": "markdown",
   "metadata": {},
   "source": [
    "\n",
    "Bigwham uses a hierarchical matrix approach in order to compress the otherwise densily populated matrix. This is particularly efficient as the size of the mesh increases. For such a \"tiny\" mesh of 21 elements, there is no need to compress the resulting matrix. Neverheless we discuss here the 3 parameters controlling the compression of hiearchical matrix.\n",
    "\n",
    "$\\eta$ (eta in the code) controls the geometrical clustering  of groups of points between near-field and far-field interaction. The far-field interaction will be approximated as low-rank matrices. Setting a value of 0 ensures that NO compression will be performed. Otherwise, a value of 2 or 3 is a good starting point for an optimal compression.\n",
    "\n",
    "max_leaf_size controls of the minimum size of a near-field / dense block of points. A good practice is to not have this too low, as if eta is large, a large number of \"small\" dense blocks will be created. A minimum of 32 is good practice. If the size of the mesh increases, it is efficient to increase the max_leaf_size (up to 2**9 or 2**10).\n",
    "\n",
    "Finally, $\\epsilon_{ACA}$ (eps_aca in the code) controls the accuracy of the low-rank approximation (by the adaptive cross approximation algorithm). A value of 1e-4 is a good starting value. "
   ]
  },
  {
   "cell_type": "code",
   "execution_count": 39,
   "metadata": {},
   "outputs": [],
   "source": [
    "eta = 0 #  here we ensure we do not compress at all (note eta can not be less than 0)\n",
    "max_leaf_size=64\n",
    "eps_aca = 1.e-4 "
   ]
  },
  {
   "cell_type": "markdown",
   "metadata": {},
   "source": [
    "We can now instantiate a BigWham object - which here directly construct the collocation BEM hierarchical matrix of the elasto-static problem."
   ]
  },
  {
   "cell_type": "code",
   "execution_count": 40,
   "metadata": {},
   "outputs": [],
   "source": [
    "h = Hmatrix(kernel_elt, coor, conn, elas_prop, max_leaf_size, eta, eps_aca)"
   ]
  },
  {
   "cell_type": "markdown",
   "metadata": {},
   "source": [
    "We can get the coordinates of the collocation points. And replot the mesh and the collocation points location, which are indeed at the middle of each elements."
   ]
  },
  {
   "cell_type": "code",
   "execution_count": 41,
   "metadata": {},
   "outputs": [
    {
     "data": {
      "text/plain": [
       "[<matplotlib.lines.Line2D at 0x1a991f8b0>]"
      ]
     },
     "execution_count": 41,
     "metadata": {},
     "output_type": "execute_result"
    },
    {
     "data": {
      "image/png": "[encoded data removed]",
      "text/plain": [
       "<Figure size 432x288 with 1 Axes>"
      ]
     },
     "metadata": {
      "needs_background": "light"
     },
     "output_type": "display_data"
    }
   ],
   "source": [
    "col_pts=h.getCollocationPoints()\n",
    "col_pts[:,0]\n",
    "\n",
    "plt.plot(coor[conn[:],0],coor[conn[:],1],'.-b')\n",
    "plt.plot(col_pts[:,0],col_pts[:,1],'*r')"
   ]
  },
  {
   "cell_type": "markdown",
   "metadata": {},
   "source": [
    "We can also check the spatial dimension of the problem via the method getSpatialDimension()"
   ]
  },
  {
   "cell_type": "code",
   "execution_count": 42,
   "metadata": {},
   "outputs": [
    {
     "data": {
      "text/plain": [
       "2"
      ]
     },
     "execution_count": 42,
     "metadata": {},
     "output_type": "execute_result"
    }
   ],
   "source": [
    "h.getSpatialDimension()"
   ]
  },
  {
   "cell_type": "markdown",
   "metadata": {},
   "source": [
    "and that here, because of the choice of eta, no compression has been performed. The degree of compression is given as the ratio with respect to the otherwise dense matrix representation."
   ]
  },
  {
   "cell_type": "code",
   "execution_count": 43,
   "metadata": {},
   "outputs": [
    {
     "data": {
      "text/plain": [
       "1.0"
      ]
     },
     "execution_count": 43,
     "metadata": {},
     "output_type": "execute_result"
    }
   ],
   "source": [
    "h.getCompression()"
   ]
  },
  {
   "cell_type": "markdown",
   "metadata": {},
   "source": [
    "a value of 1 here indicates that we store the fully populated matrix.\n",
    "\n",
    "Let's now solve the Griffith problem. We need to set the loading vector. The crack is free of traction, but we must cancel the effect of the far-field stress which is tensile. \n"
   ]
  },
  {
   "cell_type": "code",
   "execution_count": 35,
   "metadata": {},
   "outputs": [],
   "source": [
    "\n",
    "tinf = np.zeros(h.shape[0])\n",
    "\n",
    "#  \n",
    "tinf[1::2] = 1."
   ]
  },
  {
   "cell_type": "markdown",
   "metadata": {},
   "source": [
    "We are now ready to solve the linear system. We do so using an iterative method, with a pre-conditioner. A very good preconditioner can be constructed by taking an incomplete LU decomposition of the full blocks of the hierarchical matrix. "
   ]
  },
  {
   "cell_type": "code",
   "execution_count": 36,
   "metadata": {},
   "outputs": [],
   "source": [
    "jac_ilu= h.H_ILU_prec() # we use a ILU decomposition of the full block for efficient solution via gmres\n",
    "d = gmres(h,tinf,M=jac_ilu,tol=1e-6)[0]\n",
    "dd = d.reshape((-1, 2))"
   ]
  },
  {
   "cell_type": "code",
   "execution_count": 44,
   "metadata": {},
   "outputs": [
    {
     "data": {
      "text/plain": [
       "Text(0.5, 1.0, 'width(x)')"
      ]
     },
     "execution_count": 44,
     "metadata": {},
     "output_type": "execute_result"
    },
    {
     "data": {
      "image/png": "[encoded data removed]",
      "text/plain": [
       "<Figure size 432x288 with 1 Axes>"
      ]
     },
     "metadata": {
      "needs_background": "light"
     },
     "output_type": "display_data"
    }
   ],
   "source": [
    "w_true=width_griffith(col_pts[:,0],a=1,sig=1,G=G,nu=nu)\n",
    "\n",
    "plt.plot(col_pts[:,0], dd[:,1], \"-*\")\n",
    "plt.plot(col_pts[:,0], w_true, \"-+r\") \n",
    "plt.title('width(x)')"
   ]
  },
  {
   "cell_type": "markdown",
   "metadata": {},
   "source": [
    "## Increasing the number of elements in the mesh\n",
    "\n",
    "In order to obtain a better solution (and to start playing with hierarchical matrix compression), we increase significantly the number of elements. From 20 elements, we now move to discretizing the crack with 1000 elements. To keep the computational cost tractable, we now use a value of 2 for $\\eta$ (which controls the acceptability condition for low-rank approximation of \"far-field\" blocks).\n"
   ]
  },
  {
   "cell_type": "code",
   "execution_count": 45,
   "metadata": {},
   "outputs": [],
   "source": [
    "nelts=1000\n",
    "a=1\n",
    "coor1D = np.linspace(-a, a, nelts + 1)  # the list of x coordinates of the element vertex\n",
    "coor = np.transpose(np.array([coor1D, coor1D * 0.0])) # the y coordinates is all zero.\n",
    "conn = np.fromfunction(lambda i, j: i + j, (nelts, 2), dtype=np.int_) # the connectivity of the mesh is very simple \n",
    "\n",
    "eta =2\n",
    "h = Hmatrix(kernel_elt, coor, conn, elas_prop, max_leaf_size, eta, eps_aca)\n"
   ]
  },
  {
   "cell_type": "markdown",
   "metadata": {},
   "source": [
    "The hierarchical matrix has now large low-rank blocks. Of course, the diagonal dominant blocks corresponds to near-field effects & are thus not compressed: these blocks are full. We can visualize the pattern of the hierarchical matrix using the plotPattern() method. \n",
    "The compression ratio is now 0.23, which means that the hierachical representation store only 23% of the otherwise dense matrix.\n",
    "\n",
    "-- Note: internally, BigWham performs a re-ordering of the degree of freedoms when creating the hierarchical tree via geometrical clustering. This is \"hidden\" from the python users, all the input & outputs are set in the original ordering corresponding to the mesh used in Python."
   ]
  },
  {
   "cell_type": "code",
   "execution_count": 47,
   "metadata": {},
   "outputs": [
    {
     "name": "stderr",
     "output_type": "stream",
     "text": [
      "/Users/bricelecampion/ClionProjects/BigWham_dev/build/interfaces/python/hmatrix.py:220: UserWarning: Matplotlib is currently using module://ipykernel.pylab.backend_inline, which is a non-GUI backend, so cannot show the figure.\n",
      "  fig.show()\n"
     ]
    },
    {
     "data": {
      "image/png": "[encoded data removed]",
      "text/plain": [
       "<Figure size 432x288 with 1 Axes>"
      ]
     },
     "metadata": {
      "needs_background": "light"
     },
     "output_type": "display_data"
    },
    {
     "data": {
      "text/plain": [
       "0.239184"
      ]
     },
     "execution_count": 47,
     "metadata": {},
     "output_type": "execute_result"
    }
   ],
   "source": [
    "h.plotPattern()\n",
    "h.getCompression()"
   ]
  },
  {
   "cell_type": "markdown",
   "metadata": {},
   "source": [
    "We can now similarly solve the problem. We use again an iterative solver - which is now mandatory as the hierarchical matrix can only perform matrix-vector product. For optimal convergence, we use an Incomplete LU decomposition of the full blocks (diagonal dominant - see above) of the matrix."
   ]
  },
  {
   "cell_type": "code",
   "execution_count": 51,
   "metadata": {},
   "outputs": [],
   "source": [
    "tinf = np.zeros(h.shape[0])\n",
    "#  \n",
    "tinf[1::2] = 1.\n",
    "\n",
    "jac_ilu= h.H_ILU_prec() # we use a ILU decomposition of the full block for efficient solution via gmres\n",
    "d = gmres(h,tinf,M=jac_ilu,tol=1e-6)[0] # solution of the system of eqns via a pre-conditionned GMRES \n",
    "dd = d.reshape((-1, 2))"
   ]
  },
  {
   "cell_type": "code",
   "execution_count": 56,
   "metadata": {},
   "outputs": [
    {
     "data": {
      "text/plain": [
       "Text(0.5, 1.0, ' Griffith crack Nelts=1000')"
      ]
     },
     "execution_count": 56,
     "metadata": {},
     "output_type": "execute_result"
    },
    {
     "data": {
      "image/png": "[encoded data removed]",
      "text/plain": [
       "<Figure size 432x288 with 1 Axes>"
      ]
     },
     "metadata": {
      "needs_background": "light"
     },
     "output_type": "display_data"
    }
   ],
   "source": [
    "col_pts=h.getCollocationPoints()\n",
    "w_true=width_griffith(col_pts[:,0],a=1,sig=1,G=G,nu=nu)\n",
    "\n",
    "plt.plot(col_pts[:,0], dd[:,1], \"-*\")\n",
    "plt.plot(col_pts[:,0], w_true, \"+r\") \n",
    "plt.xlabel('x')\n",
    "plt.ylabel('Width')\n",
    "plt.title(' Griffith crack Nelts=1000')"
   ]
  },
  {
   "cell_type": "code",
   "execution_count": null,
   "metadata": {},
   "outputs": [],
   "source": []
  }
 ],
 "metadata": {
  "kernelspec": {
   "display_name": "python3.9",
   "language": "python",
   "name": "python3"
  },
  "language_info": {
   "codemirror_mode": {
    "name": "ipython",
    "version": 3
   },
   "file_extension": ".py",
   "mimetype": "text/x-python",
   "name": "python",
   "nbconvert_exporter": "python",
   "pygments_lexer": "ipython3",
   "version": "3.9.2"
  }
 },
 "nbformat": 4,
 "nbformat_minor": 2
}

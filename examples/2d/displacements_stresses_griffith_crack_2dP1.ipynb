{
 "cells": [
  {
   "cell_type": "markdown",
   "metadata": {},
   "source": [
    "# Elastic field around a Griffith crack - 2D Piece-wise linear element\n",
    "\n",
    "Plane Elastic problem\n",
    "\n",
    "Displacements and stresses around a straight crack  $ x_1 \\in [-a,a] $ under pure tensile loading $\\sigma$.\n",
    "\n",
    "We test the computation of the displacement and stress at observation points by setting the solution of the collocation BEM to the analytical solution on the BE mesh."
   ]
  },
  {
   "cell_type": "markdown",
   "metadata": {},
   "source": [
    "The crack displacement discontinuity is given by for $ x_1 \\in [-a,a] $:\n",
    "\n",
    "$\\Delta u_1 (x_1,x_2=0)= u_1 (x_1,x_2=0^+)-u_1 (x_1,x_2=0^-)=0 $ \n",
    "\n",
    "$\\Delta u_2 (x_1,x_2=0)= u_2 (x_1,x_2=0^+)-u_2 (x_1,x_2=0^-)= \\frac{4 \\sigma}{E^\\prime} \\sqrt{a^2-x_1^2} =\\frac{2 (1-\\nu) \\sigma}{G} \\sqrt{a^2-x_1^2}  $ \n",
    "\n",
    "where $E^\\prime = E / (1-\\nu^2) $ is the plane strain Young's modulus, $G = E/ (2(1+\\nu)) $ the shear modulus, $E$ the Young's modulus and $\\nu$ the Poisson's ratio.\n"
   ]
  },
  {
   "cell_type": "code",
   "execution_count": 7,
   "metadata": {},
   "outputs": [
    {
     "name": "stdout",
     "output_type": "stream",
     "text": [
      "getcwd:       /Users/bricelecampion/ClionProjects/BigWham-Tutorials/examples/2d\n"
     ]
    }
   ],
   "source": [
    "import sys,os,time\n",
    "import matplotlib.pyplot as plt\n",
    "\n",
    "home = os.environ[\"HOME\"]\n",
    "print('getcwd:      ', os.getcwd())\n",
    "\n",
    "# load the analytical solution \n",
    "sys.path.append(os.path.join(os.getcwd(), '../..'))\n",
    "from solutions.griffith_crack import displacement_griffith,stress_griffith,width_griffith\n"
   ]
  },
  {
   "cell_type": "markdown",
   "metadata": {},
   "source": []
  },
  {
   "cell_type": "code",
   "execution_count": 8,
   "metadata": {},
   "outputs": [],
   "source": [
    "# %% importing BigWham \n",
    "import numpy as np\n",
    "\n",
    "home = os.environ[\"HOME\"]\n",
    "sys.path.append(\"/Users/bricelecampion/ClionProjects/BigWham_dev/build/interfaces/python\")\n",
    "from hmatrix import Hmatrix\n"
   ]
  },
  {
   "cell_type": "code",
   "execution_count": 9,
   "metadata": {},
   "outputs": [],
   "source": [
    "#%% Elastic properties\n",
    "G = 1.0\n",
    "nu = 0.25\n",
    "E = (2 * G) * (1 + nu)\n",
    "Eprime = E/(1-nu**2)\n",
    "# %% Mesh \n",
    "a = 1.\n",
    "nelts = 101\n",
    "coor1D = np.linspace(-a, a, nelts + 1)\n",
    "coor = np.transpose(np.array([coor1D, coor1D * 0.0]))\n",
    "conn = np.fromfunction(lambda i, j: i + j, (nelts, 2), dtype=np.int_)\n"
   ]
  },
  {
   "cell_type": "code",
   "execution_count": 10,
   "metadata": {},
   "outputs": [],
   "source": [
    "kernel = \"2DP1\"\n",
    "elas_prop = np.array([E, nu])\n",
    "eta=3.0\n",
    "max_leaf_size = 64\n",
    "eps_aca = 1.0e-3\n",
    "h = Hmatrix(kernel, coor, conn, elas_prop, max_leaf_size, eta, eps_aca)\n",
    "\n",
    "#colpts=h.getCollocationPoints()\n"
   ]
  },
  {
   "cell_type": "code",
   "execution_count": 11,
   "metadata": {},
   "outputs": [],
   "source": [
    "# x\n",
    "x_obs=np.linspace(-3*a,3*a,500)\n",
    "yoffset = 0.17\n",
    "obs_pts = np.transpose([x_obs , x_obs*0.+yoffset])\n",
    "#\n",
    "u,v = displacement_griffith(x_obs+yoffset*(1j),a=a,sig=1,nu=nu,G=G)\n"
   ]
  },
  {
   "cell_type": "code",
   "execution_count": 12,
   "metadata": {},
   "outputs": [],
   "source": [
    "# Crack opening displacement discontinuity from analytical solution \n",
    "# note that 2DP1 segment have their solution at nodes.... \n",
    "# note that 2DP1 segment have displacement disconinuity at element vertex for each element\n",
    "x_coor_node = np.ones(2*nelts)\n",
    "for e in range(nelts):\n",
    "    x_coor_node[e*2:e*2+2]=coor1D[conn[e]]\n",
    "    \n",
    "w = (4*1/Eprime)*np.sqrt(a**2-x_coor_node[:]**2)   \n",
    "\n",
    "# total dd vectors at nodes (2DP1 case)\n",
    "d = np.transpose([w*0.,w])\n",
    "\n",
    "# note the displacement kernel is not coded up yet for 2DP1   !!\n",
    "# so we only check stresses....\n",
    "# results from collocation BEM observation (with known solution for the relative DD)\n",
    "sigma=h.compute_stresses(obs_pts,-d)   # minus sign due to convention of positive dd in overlap in the inner of Bigwham...."
   ]
  },
  {
   "cell_type": "code",
   "execution_count": 13,
   "metadata": {},
   "outputs": [
    {
     "data": {
      "text/plain": [
       "array([0., 0., 0., 0., 0., 0., 0., 0., 0., 0., 0., 0., 0., 0., 0., 0., 0.,\n",
       "       0., 0., 0., 0., 0., 0., 0., 0., 0., 0., 0., 0., 0., 0., 0., 0., 0.,\n",
       "       0., 0., 0., 0., 0., 0., 0., 0., 0., 0., 0., 0., 0., 0., 0., 0., 0.,\n",
       "       0., 0., 0., 0., 0., 0., 0., 0., 0., 0., 0., 0., 0., 0., 0., 0., 0.,\n",
       "       0., 0., 0., 0., 0., 0., 0., 0., 0., 0., 0., 0., 0., 0., 0., 0., 0.,\n",
       "       0., 0., 0., 0., 0., 0., 0., 0., 0., 0., 0., 0., 0., 0., 0., 0., 0.,\n",
       "       0., 0., 0., 0., 0., 0., 0., 0., 0., 0., 0., 0., 0., 0., 0., 0., 0.,\n",
       "       0., 0., 0., 0., 0., 0., 0., 0., 0., 0., 0., 0., 0., 0., 0., 0., 0.,\n",
       "       0., 0., 0., 0., 0., 0., 0., 0., 0., 0., 0., 0., 0., 0., 0., 0., 0.,\n",
       "       0., 0., 0., 0., 0., 0., 0., 0., 0., 0., 0., 0., 0., 0., 0., 0., 0.,\n",
       "       0., 0., 0., 0., 0., 0., 0., 0., 0., 0., 0., 0., 0., 0., 0., 0., 0.,\n",
       "       0., 0., 0., 0., 0., 0., 0., 0., 0., 0., 0., 0., 0., 0., 0.])"
      ]
     },
     "execution_count": 13,
     "metadata": {},
     "output_type": "execute_result"
    }
   ],
   "source": [
    "width_griffith(x_coor_node,a=a,sig=1.,nu=nu,G=G)-w"
   ]
  },
  {
   "cell_type": "markdown",
   "metadata": {},
   "source": [
    "### Evolution of Stresses around a Griffith crack"
   ]
  },
  {
   "cell_type": "code",
   "execution_count": 14,
   "metadata": {},
   "outputs": [],
   "source": [
    "# analytical results\n",
    "s_11,s_22,s_12 = stress_griffith(x_obs+yoffset*(1j),a=a,sig=1,nu=nu)\n"
   ]
  },
  {
   "cell_type": "code",
   "execution_count": 15,
   "metadata": {},
   "outputs": [
    {
     "data": {
      "text/plain": [
       "[<matplotlib.lines.Line2D at 0x110f7a3d0>]"
      ]
     },
     "execution_count": 15,
     "metadata": {},
     "output_type": "execute_result"
    },
    {
     "data": {
      "image/png": "[encoded data removed]",
      "text/plain": [
       "<Figure size 432x288 with 1 Axes>"
      ]
     },
     "metadata": {
      "needs_background": "light"
     },
     "output_type": "display_data"
    }
   ],
   "source": [
    "plt.plot(x_obs,sigma[:,0])\n",
    "plt.plot(x_obs,s_11)"
   ]
  },
  {
   "cell_type": "code",
   "execution_count": 16,
   "metadata": {},
   "outputs": [
    {
     "data": {
      "text/plain": [
       "[<matplotlib.lines.Line2D at 0x111056a00>]"
      ]
     },
     "execution_count": 16,
     "metadata": {},
     "output_type": "execute_result"
    },
    {
     "data": {
      "image/png": "[encoded data removed]",
      "text/plain": [
       "<Figure size 432x288 with 1 Axes>"
      ]
     },
     "metadata": {
      "needs_background": "light"
     },
     "output_type": "display_data"
    }
   ],
   "source": [
    "plt.plot(x_obs,sigma[:,1])\n",
    "plt.plot(x_obs,s_22)"
   ]
  },
  {
   "cell_type": "code",
   "execution_count": 17,
   "metadata": {},
   "outputs": [
    {
     "data": {
      "text/plain": [
       "[<matplotlib.lines.Line2D at 0x1110b3f70>]"
      ]
     },
     "execution_count": 17,
     "metadata": {},
     "output_type": "execute_result"
    },
    {
     "data": {
      "image/png": "[encoded data removed]",
      "text/plain": [
       "<Figure size 432x288 with 1 Axes>"
      ]
     },
     "metadata": {
      "needs_background": "light"
     },
     "output_type": "display_data"
    }
   ],
   "source": [
    "plt.plot(x_obs,sigma[:,2])\n",
    "plt.plot(x_obs,s_12)"
   ]
  }
 ],
 "metadata": {
  "kernelspec": {
   "display_name": "python3.9",
   "language": "python",
   "name": "python3"
  },
  "language_info": {
   "codemirror_mode": {
    "name": "ipython",
    "version": 3
   },
   "file_extension": ".py",
   "mimetype": "text/x-python",
   "name": "python",
   "nbconvert_exporter": "python",
   "pygments_lexer": "ipython3",
   "version": "3.9.2"
  }
 },
 "nbformat": 4,
 "nbformat_minor": 2
}
